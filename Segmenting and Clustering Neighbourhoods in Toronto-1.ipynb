{
 "cells": [
  {
   "cell_type": "markdown",
   "metadata": {},
   "source": [
    "# Segmenting and Clustering Neighbourhoods in Toronto"
   ]
  },
  {
   "cell_type": "markdown",
   "metadata": {},
   "source": [
    "## Data Scraping"
   ]
  },
  {
   "cell_type": "markdown",
   "metadata": {},
   "source": [
    "#### Import Packages"
   ]
  },
  {
   "cell_type": "code",
   "execution_count": 148,
   "metadata": {},
   "outputs": [],
   "source": [
    "import requests\n",
    "from bs4 import BeautifulSoup\n",
    "\n",
    "import numpy as np \n",
    "import pandas as pd\n",
    "pd.set_option('display.max_columns', None)\n",
    "pd.set_option('display.max_rows', None)"
   ]
  },
  {
   "cell_type": "markdown",
   "metadata": {},
   "source": [
    "#### Get HTML Code"
   ]
  },
  {
   "cell_type": "code",
   "execution_count": 149,
   "metadata": {
    "scrolled": true
   },
   "outputs": [],
   "source": [
    "response = requests.get(url=\"https://en.wikipedia.org/wiki/List_of_postal_codes_of_Canada:_M\",)\n",
    "soup = BeautifulSoup(response.content, 'html.parser')"
   ]
  },
  {
   "cell_type": "markdown",
   "metadata": {},
   "source": [
    "#### Print 1st Row"
   ]
  },
  {
   "cell_type": "code",
   "execution_count": 150,
   "metadata": {},
   "outputs": [
    {
     "data": {
      "text/plain": [
       "<tr>\n",
       "<td>M1A\n",
       "</td>\n",
       "<td>Not assigned\n",
       "</td>\n",
       "<td>Not assigned\n",
       "</td></tr>"
      ]
     },
     "execution_count": 150,
     "metadata": {},
     "output_type": "execute_result"
    }
   ],
   "source": [
    "soup.table.tbody.find_all('tr')[1]#.find_all('td')[1].get_text()"
   ]
  },
  {
   "cell_type": "markdown",
   "metadata": {},
   "source": [
    "#### Convert HTML Table to Dataframe"
   ]
  },
  {
   "cell_type": "code",
   "execution_count": 151,
   "metadata": {},
   "outputs": [],
   "source": [
    "#Create New Dataframe\n",
    "column_names = ['Postal Code','Borough', 'Neighborhood'] \n",
    "nbhds = pd.DataFrame(columns=column_names)"
   ]
  },
  {
   "cell_type": "code",
   "execution_count": 152,
   "metadata": {
    "scrolled": false
   },
   "outputs": [
    {
     "name": "stdout",
     "output_type": "stream",
     "text": [
      "['M1A', 'Not assigned', 'Not assigned']\n",
      "['M2A', 'Not assigned', 'Not assigned']\n",
      "['M3A', 'North York', 'Parkwoods']\n",
      "['M4A', 'North York', 'Victoria Village']\n",
      "['M5A', 'Downtown Toronto', 'Regent Park, Harbourfront']\n",
      "['M6A', 'North York', 'Lawrence Manor, Lawrence Heights']\n",
      "['M7A', 'Downtown Toronto', \"Queen's Park, Ontario Provincial Government\"]\n",
      "['M8A', 'Not assigned', 'Not assigned']\n",
      "['M9A', 'Etobicoke', 'Islington Avenue, Humber Valley Village']\n",
      "['M1B', 'Scarborough', 'Malvern, Rouge']\n",
      "['M2B', 'Not assigned', 'Not assigned']\n",
      "['M3B', 'North York', 'Don Mills']\n",
      "['M4B', 'East York', 'Parkview Hill, Woodbine Gardens']\n",
      "['M5B', 'Downtown Toronto', 'Garden District, Ryerson']\n",
      "['M6B', 'North York', 'Glencairn']\n",
      "['M7B', 'Not assigned', 'Not assigned']\n",
      "['M8B', 'Not assigned', 'Not assigned']\n",
      "['M9B', 'Etobicoke', 'West Deane Park, Princess Gardens, Martin Grove, Islington, Cloverdale']\n",
      "['M1C', 'Scarborough', 'Rouge Hill, Port Union, Highland Creek']\n",
      "['M2C', 'Not assigned', 'Not assigned']\n",
      "['M3C', 'North York', 'Don Mills']\n",
      "['M4C', 'East York', 'Woodbine Heights']\n",
      "['M5C', 'Downtown Toronto', 'St. James Town']\n",
      "['M6C', 'York', 'Humewood-Cedarvale']\n",
      "['M7C', 'Not assigned', 'Not assigned']\n",
      "['M8C', 'Not assigned', 'Not assigned']\n",
      "['M9C', 'Etobicoke', 'Eringate, Bloordale Gardens, Old Burnhamthorpe, Markland Wood']\n",
      "['M1E', 'Scarborough', 'Guildwood, Morningside, West Hill']\n",
      "['M2E', 'Not assigned', 'Not assigned']\n",
      "['M3E', 'Not assigned', 'Not assigned']\n",
      "['M4E', 'East Toronto', 'The Beaches']\n",
      "['M5E', 'Downtown Toronto', 'Berczy Park']\n",
      "['M6E', 'York', 'Caledonia-Fairbanks']\n",
      "['M7E', 'Not assigned', 'Not assigned']\n",
      "['M8E', 'Not assigned', 'Not assigned']\n",
      "['M9E', 'Not assigned', 'Not assigned']\n",
      "['M1G', 'Scarborough', 'Woburn']\n",
      "['M2G', 'Not assigned', 'Not assigned']\n",
      "['M3G', 'Not assigned', 'Not assigned']\n",
      "['M4G', 'East York', 'Leaside']\n",
      "['M5G', 'Downtown Toronto', 'Central Bay Street']\n",
      "['M6G', 'Downtown Toronto', 'Christie']\n",
      "['M7G', 'Not assigned', 'Not assigned']\n",
      "['M8G', 'Not assigned', 'Not assigned']\n",
      "['M9G', 'Not assigned', 'Not assigned']\n",
      "['M1H', 'Scarborough', 'Cedarbrae']\n",
      "['M2H', 'North York', 'Hillcrest Village']\n",
      "['M3H', 'North York', 'Bathurst Manor, Wilson Heights, Downsview North']\n",
      "['M4H', 'East York', 'Thorncliffe Park']\n",
      "['M5H', 'Downtown Toronto', 'Richmond, Adelaide, King']\n",
      "['M6H', 'West Toronto', 'Dufferin, Dovercourt Village']\n",
      "['M7H', 'Not assigned', 'Not assigned']\n",
      "['M8H', 'Not assigned', 'Not assigned']\n",
      "['M9H', 'Not assigned', 'Not assigned']\n",
      "['M1J', 'Scarborough', 'Scarborough Village']\n",
      "['M2J', 'North York', 'Fairview, Henry Farm, Oriole']\n",
      "['M3J', 'North York', 'Northwood Park, York University']\n",
      "['M4J', 'East York', 'East Toronto, Broadview North (Old East York)']\n",
      "['M5J', 'Downtown Toronto', 'Harbourfront East, Union Station, Toronto Islands']\n",
      "['M6J', 'West Toronto', 'Little Portugal, Trinity']\n",
      "['M7J', 'Not assigned', 'Not assigned']\n",
      "['M8J', 'Not assigned', 'Not assigned']\n",
      "['M9J', 'Not assigned', 'Not assigned']\n",
      "['M1K', 'Scarborough', 'Kennedy Park, Ionview, East Birchmount Park']\n",
      "['M2K', 'North York', 'Bayview Village']\n",
      "['M3K', 'North York', 'Downsview']\n",
      "['M4K', 'East Toronto', 'The Danforth West, Riverdale']\n",
      "['M5K', 'Downtown Toronto', 'Toronto Dominion Centre, Design Exchange']\n",
      "['M6K', 'West Toronto', 'Brockton, Parkdale Village, Exhibition Place']\n",
      "['M7K', 'Not assigned', 'Not assigned']\n",
      "['M8K', 'Not assigned', 'Not assigned']\n",
      "['M9K', 'Not assigned', 'Not assigned']\n",
      "['M1L', 'Scarborough', 'Golden Mile, Clairlea, Oakridge']\n",
      "['M2L', 'North York', 'York Mills, Silver Hills']\n",
      "['M3L', 'North York', 'Downsview']\n",
      "['M4L', 'East Toronto', 'India Bazaar, The Beaches West']\n",
      "['M5L', 'Downtown Toronto', 'Commerce Court, Victoria Hotel']\n",
      "['M6L', 'North York', 'North Park, Maple Leaf Park, Upwood Park']\n",
      "['M7L', 'Not assigned', 'Not assigned']\n",
      "['M8L', 'Not assigned', 'Not assigned']\n",
      "['M9L', 'North York', 'Humber Summit']\n",
      "['M1M', 'Scarborough', 'Cliffside, Cliffcrest, Scarborough Village West']\n",
      "['M2M', 'North York', 'Willowdale, Newtonbrook']\n",
      "['M3M', 'North York', 'Downsview']\n",
      "['M4M', 'East Toronto', 'Studio District']\n",
      "['M5M', 'North York', 'Bedford Park, Lawrence Manor East']\n",
      "['M6M', 'York', 'Del Ray, Mount Dennis, Keelsdale and Silverthorn']\n",
      "['M7M', 'Not assigned', 'Not assigned']\n",
      "['M8M', 'Not assigned', 'Not assigned']\n",
      "['M9M', 'North York', 'Humberlea, Emery']\n",
      "['M1N', 'Scarborough', 'Birch Cliff, Cliffside West']\n",
      "['M2N', 'North York', 'Willowdale, Willowdale East']\n",
      "['M3N', 'North York', 'Downsview']\n",
      "['M4N', 'Central Toronto', 'Lawrence Park']\n",
      "['M5N', 'Central Toronto', 'Roselawn']\n",
      "['M6N', 'York', 'Runnymede, The Junction North']\n",
      "['M7N', 'Not assigned', 'Not assigned']\n",
      "['M8N', 'Not assigned', 'Not assigned']\n",
      "['M9N', 'York', 'Weston']\n",
      "['M1P', 'Scarborough', 'Dorset Park, Wexford Heights, Scarborough Town Centre']\n",
      "['M2P', 'North York', 'York Mills West']\n",
      "['M3P', 'Not assigned', 'Not assigned']\n",
      "['M4P', 'Central Toronto', 'Davisville North']\n",
      "['M5P', 'Central Toronto', 'Forest Hill North & West, Forest Hill Road Park']\n",
      "['M6P', 'West Toronto', 'High Park, The Junction South']\n",
      "['M7P', 'Not assigned', 'Not assigned']\n",
      "['M8P', 'Not assigned', 'Not assigned']\n",
      "['M9P', 'Etobicoke', 'Westmount']\n",
      "['M1R', 'Scarborough', 'Wexford, Maryvale']\n",
      "['M2R', 'North York', 'Willowdale, Willowdale West']\n",
      "['M3R', 'Not assigned', 'Not assigned']\n",
      "['M4R', 'Central Toronto', 'North Toronto West,  Lawrence Park']\n",
      "['M5R', 'Central Toronto', 'The Annex, North Midtown, Yorkville']\n",
      "['M6R', 'West Toronto', 'Parkdale, Roncesvalles']\n",
      "['M7R', 'Mississauga', 'Canada Post Gateway Processing Centre']\n",
      "['M8R', 'Not assigned', 'Not assigned']\n",
      "['M9R', 'Etobicoke', 'Kingsview Village, St. Phillips, Martin Grove Gardens, Richview Gardens']\n",
      "['M1S', 'Scarborough', 'Agincourt']\n",
      "['M2S', 'Not assigned', 'Not assigned']\n",
      "['M3S', 'Not assigned', 'Not assigned']\n",
      "['M4S', 'Central Toronto', 'Davisville']\n",
      "['M5S', 'Downtown Toronto', 'University of Toronto, Harbord']\n",
      "['M6S', 'West Toronto', 'Runnymede, Swansea']\n",
      "['M7S', 'Not assigned', 'Not assigned']\n",
      "['M8S', 'Not assigned', 'Not assigned']\n",
      "['M9S', 'Not assigned', 'Not assigned']\n",
      "['M1T', 'Scarborough', \"Clarks Corners, Tam O'Shanter, Sullivan\"]\n",
      "['M2T', 'Not assigned', 'Not assigned']\n",
      "['M3T', 'Not assigned', 'Not assigned']\n",
      "['M4T', 'Central Toronto', 'Moore Park, Summerhill East']\n",
      "['M5T', 'Downtown Toronto', 'Kensington Market, Chinatown, Grange Park']\n",
      "['M6T', 'Not assigned', 'Not assigned']\n",
      "['M7T', 'Not assigned', 'Not assigned']\n",
      "['M8T', 'Not assigned', 'Not assigned']\n",
      "['M9T', 'Not assigned', 'Not assigned']\n",
      "['M1V', 'Scarborough', \"Milliken, Agincourt North, Steeles East, L'Amoreaux East\"]\n",
      "['M2V', 'Not assigned', 'Not assigned']\n",
      "['M3V', 'Not assigned', 'Not assigned']\n",
      "['M4V', 'Central Toronto', 'Summerhill West, Rathnelly, South Hill, Forest Hill SE, Deer Park']\n",
      "['M5V', 'Downtown Toronto', 'CN Tower, King and Spadina, Railway Lands, Harbourfront West, Bathurst Quay, South Niagara, Island airport']\n",
      "['M6V', 'Not assigned', 'Not assigned']\n",
      "['M7V', 'Not assigned', 'Not assigned']\n",
      "['M8V', 'Etobicoke', 'New Toronto, Mimico South, Humber Bay Shores']\n",
      "['M9V', 'Etobicoke', 'South Steeles, Silverstone, Humbergate, Jamestown, Mount Olive, Beaumond Heights, Thistletown, Albion Gardens']\n",
      "['M1W', 'Scarborough', \"Steeles West, L'Amoreaux West\"]\n",
      "['M2W', 'Not assigned', 'Not assigned']\n",
      "['M3W', 'Not assigned', 'Not assigned']\n",
      "['M4W', 'Downtown Toronto', 'Rosedale']\n",
      "['M5W', 'Downtown Toronto', 'Stn A PO Boxes']\n",
      "['M6W', 'Not assigned', 'Not assigned']\n",
      "['M7W', 'Not assigned', 'Not assigned']\n",
      "['M8W', 'Etobicoke', 'Alderwood, Long Branch']\n",
      "['M9W', 'Etobicoke', 'Northwest, West Humber - Clairville']\n",
      "['M1X', 'Scarborough', 'Upper Rouge']\n",
      "['M2X', 'Not assigned', 'Not assigned']\n",
      "['M3X', 'Not assigned', 'Not assigned']\n",
      "['M4X', 'Downtown Toronto', 'St. James Town, Cabbagetown']\n",
      "['M5X', 'Downtown Toronto', 'First Canadian Place, Underground city']\n",
      "['M6X', 'Not assigned', 'Not assigned']\n",
      "['M7X', 'Not assigned', 'Not assigned']\n",
      "['M8X', 'Etobicoke', 'The Kingsway, Montgomery Road, Old Mill North']\n",
      "['M9X', 'Not assigned', 'Not assigned']\n",
      "['M1Y', 'Not assigned', 'Not assigned']\n",
      "['M2Y', 'Not assigned', 'Not assigned']\n",
      "['M3Y', 'Not assigned', 'Not assigned']\n",
      "['M4Y', 'Downtown Toronto', 'Church and Wellesley']\n",
      "['M5Y', 'Not assigned', 'Not assigned']\n",
      "['M6Y', 'Not assigned', 'Not assigned']\n"
     ]
    },
    {
     "name": "stdout",
     "output_type": "stream",
     "text": [
      "['M7Y', 'East Toronto', 'Business reply mail Processing Centre, South Central Letter Processing Plant Toronto']\n",
      "['M8Y', 'Etobicoke', \"Old Mill South, King's Mill Park, Sunnylea, Humber Bay, Mimico NE, The Queensway East, Royal York South East, Kingsway Park South East\"]\n",
      "['M9Y', 'Not assigned', 'Not assigned']\n",
      "['M1Z', 'Not assigned', 'Not assigned']\n",
      "['M2Z', 'Not assigned', 'Not assigned']\n",
      "['M3Z', 'Not assigned', 'Not assigned']\n",
      "['M4Z', 'Not assigned', 'Not assigned']\n",
      "['M5Z', 'Not assigned', 'Not assigned']\n",
      "['M6Z', 'Not assigned', 'Not assigned']\n",
      "['M7Z', 'Not assigned', 'Not assigned']\n",
      "['M8Z', 'Etobicoke', 'Mimico NW, The Queensway West, South of Bloor, Kingsway Park South West, Royal York South West']\n",
      "['M9Z', 'Not assigned', 'Not assigned']\n"
     ]
    }
   ],
   "source": [
    "table = soup.table.tbody\n",
    "\n",
    "row_count = 0\n",
    "\n",
    "for row in table.find_all('tr'):\n",
    "    new_row=[]\n",
    "    for column in row.find_all('td'):\n",
    "        new_row.append(column.get_text().strip('\\n'))    \n",
    "    if (len(new_row) != 0):\n",
    "        print(new_row)\n",
    "        nbhds.loc[row_count] = new_row\n",
    "        row_count = row_count + 1\n"
   ]
  },
  {
   "cell_type": "markdown",
   "metadata": {},
   "source": [
    "#### Drop 'Borough' cells with 'Not assigned' values"
   ]
  },
  {
   "cell_type": "code",
   "execution_count": 153,
   "metadata": {
    "scrolled": true
   },
   "outputs": [],
   "source": [
    "nbhds.drop(nbhds[nbhds.Borough == 'Not assigned'].index, inplace=True)\n",
    "nbhds.reset_index(inplace = True, drop = True)"
   ]
  },
  {
   "cell_type": "code",
   "execution_count": 154,
   "metadata": {},
   "outputs": [
    {
     "data": {
      "text/html": [
       "<div>\n",
       "<style scoped>\n",
       "    .dataframe tbody tr th:only-of-type {\n",
       "        vertical-align: middle;\n",
       "    }\n",
       "\n",
       "    .dataframe tbody tr th {\n",
       "        vertical-align: top;\n",
       "    }\n",
       "\n",
       "    .dataframe thead th {\n",
       "        text-align: right;\n",
       "    }\n",
       "</style>\n",
       "<table border=\"1\" class=\"dataframe\">\n",
       "  <thead>\n",
       "    <tr style=\"text-align: right;\">\n",
       "      <th></th>\n",
       "      <th>Postal Code</th>\n",
       "      <th>Borough</th>\n",
       "      <th>Neighborhood</th>\n",
       "    </tr>\n",
       "  </thead>\n",
       "  <tbody>\n",
       "    <tr>\n",
       "      <th>0</th>\n",
       "      <td>M3A</td>\n",
       "      <td>North York</td>\n",
       "      <td>Parkwoods</td>\n",
       "    </tr>\n",
       "    <tr>\n",
       "      <th>1</th>\n",
       "      <td>M4A</td>\n",
       "      <td>North York</td>\n",
       "      <td>Victoria Village</td>\n",
       "    </tr>\n",
       "    <tr>\n",
       "      <th>2</th>\n",
       "      <td>M5A</td>\n",
       "      <td>Downtown Toronto</td>\n",
       "      <td>Regent Park, Harbourfront</td>\n",
       "    </tr>\n",
       "    <tr>\n",
       "      <th>3</th>\n",
       "      <td>M6A</td>\n",
       "      <td>North York</td>\n",
       "      <td>Lawrence Manor, Lawrence Heights</td>\n",
       "    </tr>\n",
       "    <tr>\n",
       "      <th>4</th>\n",
       "      <td>M7A</td>\n",
       "      <td>Downtown Toronto</td>\n",
       "      <td>Queen's Park, Ontario Provincial Government</td>\n",
       "    </tr>\n",
       "  </tbody>\n",
       "</table>\n",
       "</div>"
      ],
      "text/plain": [
       "  Postal Code           Borough                                 Neighborhood\n",
       "0         M3A        North York                                    Parkwoods\n",
       "1         M4A        North York                             Victoria Village\n",
       "2         M5A  Downtown Toronto                    Regent Park, Harbourfront\n",
       "3         M6A        North York             Lawrence Manor, Lawrence Heights\n",
       "4         M7A  Downtown Toronto  Queen's Park, Ontario Provincial Government"
      ]
     },
     "execution_count": 154,
     "metadata": {},
     "output_type": "execute_result"
    }
   ],
   "source": [
    "nbhds.head()"
   ]
  },
  {
   "cell_type": "markdown",
   "metadata": {},
   "source": [
    "#### Assign 'Borough' to 'Neighborhood' if it is 'Not assigned'"
   ]
  },
  {
   "cell_type": "code",
   "execution_count": 155,
   "metadata": {},
   "outputs": [],
   "source": [
    "nbhds['Neighborhood'].loc[(nbhds.Neighborhood == 'Not assigned') & (nbhds.Borough != 'Not assigned')] = nbhds['Borough'].loc[(nbhds.Neighborhood == 'Not assigned') & (nbhds.Borough != 'Not assigned')]"
   ]
  },
  {
   "cell_type": "code",
   "execution_count": 156,
   "metadata": {},
   "outputs": [
    {
     "data": {
      "text/html": [
       "<div>\n",
       "<style scoped>\n",
       "    .dataframe tbody tr th:only-of-type {\n",
       "        vertical-align: middle;\n",
       "    }\n",
       "\n",
       "    .dataframe tbody tr th {\n",
       "        vertical-align: top;\n",
       "    }\n",
       "\n",
       "    .dataframe thead th {\n",
       "        text-align: right;\n",
       "    }\n",
       "</style>\n",
       "<table border=\"1\" class=\"dataframe\">\n",
       "  <thead>\n",
       "    <tr style=\"text-align: right;\">\n",
       "      <th></th>\n",
       "      <th>Postal Code</th>\n",
       "      <th>Borough</th>\n",
       "      <th>Neighborhood</th>\n",
       "    </tr>\n",
       "  </thead>\n",
       "  <tbody>\n",
       "    <tr>\n",
       "      <th>0</th>\n",
       "      <td>M3A</td>\n",
       "      <td>North York</td>\n",
       "      <td>Parkwoods</td>\n",
       "    </tr>\n",
       "    <tr>\n",
       "      <th>1</th>\n",
       "      <td>M4A</td>\n",
       "      <td>North York</td>\n",
       "      <td>Victoria Village</td>\n",
       "    </tr>\n",
       "    <tr>\n",
       "      <th>2</th>\n",
       "      <td>M5A</td>\n",
       "      <td>Downtown Toronto</td>\n",
       "      <td>Regent Park, Harbourfront</td>\n",
       "    </tr>\n",
       "    <tr>\n",
       "      <th>3</th>\n",
       "      <td>M6A</td>\n",
       "      <td>North York</td>\n",
       "      <td>Lawrence Manor, Lawrence Heights</td>\n",
       "    </tr>\n",
       "    <tr>\n",
       "      <th>4</th>\n",
       "      <td>M7A</td>\n",
       "      <td>Downtown Toronto</td>\n",
       "      <td>Queen's Park, Ontario Provincial Government</td>\n",
       "    </tr>\n",
       "  </tbody>\n",
       "</table>\n",
       "</div>"
      ],
      "text/plain": [
       "  Postal Code           Borough                                 Neighborhood\n",
       "0         M3A        North York                                    Parkwoods\n",
       "1         M4A        North York                             Victoria Village\n",
       "2         M5A  Downtown Toronto                    Regent Park, Harbourfront\n",
       "3         M6A        North York             Lawrence Manor, Lawrence Heights\n",
       "4         M7A  Downtown Toronto  Queen's Park, Ontario Provincial Government"
      ]
     },
     "execution_count": 156,
     "metadata": {},
     "output_type": "execute_result"
    }
   ],
   "source": [
    "nbhds.head()"
   ]
  },
  {
   "cell_type": "code",
   "execution_count": 157,
   "metadata": {},
   "outputs": [
    {
     "data": {
      "text/plain": [
       "(103, 3)"
      ]
     },
     "execution_count": 157,
     "metadata": {},
     "output_type": "execute_result"
    }
   ],
   "source": [
    "nbhds.shape"
   ]
  }
 ],
 "metadata": {
  "kernelspec": {
   "display_name": "Python 3",
   "language": "python",
   "name": "python3"
  },
  "language_info": {
   "codemirror_mode": {
    "name": "ipython",
    "version": 3
   },
   "file_extension": ".py",
   "mimetype": "text/x-python",
   "name": "python",
   "nbconvert_exporter": "python",
   "pygments_lexer": "ipython3",
   "version": "3.7.6"
  }
 },
 "nbformat": 4,
 "nbformat_minor": 4
}
