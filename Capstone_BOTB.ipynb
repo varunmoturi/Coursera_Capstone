{
 "cells": [
  {
   "cell_type": "markdown",
   "metadata": {},
   "source": [
    "# Battle of the Neighbourhoods"
   ]
  },
  {
   "cell_type": "markdown",
   "metadata": {},
   "source": [
    "## Introduction: Bussiness Problem"
   ]
  },
  {
   "attachments": {},
   "cell_type": "markdown",
   "metadata": {},
   "source": [
    "Toronto is the capital of a Canadian province called Ontario. With a population of 2.7 million, it is known to be the most populous city in Canada and fourth most populated city in North America. The city of Toronto is Toronto is part of the Greater Toronto Area (GTA) which includes the following regions:\n",
    "- Halton\n",
    "- Peel\n",
    "- City of Toronto\n",
    "- York\n",
    "- Durham\n",
    "\n",
    "These regions are further divided into subdivisions called Boroughs. Being the most populated area in Canada, GTA welcomes more than 100,000 immigrants every year. When migrating to a vast area like GTA, immigrants often find themselves in a dilemma when it comes to deciding a location to buy house. They would need to account for all the amenities in their neighbourhood including grocery stores, restaurants, movie theatres, etc. It becomes a bigger issue when a family migrates to GTA. In this case, they would also need to find schools for their children in the neighbourhood. Wouldn't it be convenient for immigrants to know about all neighbourhoods prior to their arrival in order to find a perfect neighbourhood that would suit their lifestyles?"
   ]
  },
  {
   "cell_type": "markdown",
   "metadata": {},
   "source": [
    "## Data"
   ]
  },
  {
   "attachments": {},
   "cell_type": "markdown",
   "metadata": {},
   "source": [
    "The data is scraped form a publicly available dataset on Wikipedia (https://en.wikipedia.org/wiki/List_of_postal_codes_of_Canada:_M). This dataset consists of the following attributes:\n",
    "-\tPostal Codes\n",
    "-\tBorough\n",
    "-\tNeighbourhood\n",
    "\n",
    "The dataset contains all the subdivisions of GTA along with its neighbourhoods. Google Maps Geocoding API will be leveraged to obtain the latitude and longitude of each neighbourhood. As described in the problem description, venues surrounding each neighbourhood will be retrieved using the Foursquare API. Neighbourhoods will then be clustered based on the venues surrounding then. Each Neighbourhood will be displayed with its most popular venues. A map of GTA will be displayed with similar neighbourhoods giving users more alternatives."
   ]
  }
 ],
 "metadata": {
  "kernelspec": {
   "display_name": "Python 3",
   "language": "python",
   "name": "python3"
  },
  "language_info": {
   "codemirror_mode": {
    "name": "ipython",
    "version": 3
   },
   "file_extension": ".py",
   "mimetype": "text/x-python",
   "name": "python",
   "nbconvert_exporter": "python",
   "pygments_lexer": "ipython3",
   "version": "3.7.6"
  }
 },
 "nbformat": 4,
 "nbformat_minor": 4
}
